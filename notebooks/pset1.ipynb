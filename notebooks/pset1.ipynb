{
 "cells": [
  {
   "cell_type": "markdown",
   "id": "43a6c898",
   "metadata": {
    "vscode": {
     "languageId": "plaintext"
    }
   },
   "source": [
    "# 1. Diabetes Risk Stratification and Dataset Shift"
   ]
  },
  {
   "cell_type": "markdown",
   "id": "7e2aaf58",
   "metadata": {},
   "source": [
    "## 1.0 Read in Data"
   ]
  },
  {
   "cell_type": "code",
   "execution_count": 1,
   "id": "0284b59c",
   "metadata": {},
   "outputs": [],
   "source": [
    "%reload_ext autoreload\n",
    "%autoreload 2\n",
    "\n",
    "import sys\n",
    "import os\n",
    "\n",
    "path_to_project = os.path.abspath(os.path.join(os.getcwd(), '../'))    \n",
    "sys.path.insert(1, os.path.join(path_to_project))"
   ]
  },
  {
   "cell_type": "code",
   "execution_count": 2,
   "id": "7d6beb6b",
   "metadata": {},
   "outputs": [],
   "source": [
    "from src.directory import diabetic_filepath\n",
    "import pandas as pd"
   ]
  },
  {
   "cell_type": "code",
   "execution_count": 3,
   "id": "a566770d",
   "metadata": {},
   "outputs": [],
   "source": [
    "# read data\n",
    "diabetic_df = pd.read_csv(diabetic_filepath)\n",
    "\n",
    "# convert missing data to nan\n",
    "diabetic_df.replace({'?': float('nan')}, inplace=True)\n",
    "\n",
    "# sort values by ages\n",
    "diabetic_df.sort_values(by='age', inplace=True)"
   ]
  },
  {
   "cell_type": "code",
   "execution_count": 4,
   "id": "5438957b",
   "metadata": {},
   "outputs": [
    {
     "data": {
      "text/plain": [
       "Index(['encounter_id', 'patient_nbr', 'race', 'gender', 'age', 'weight',\n",
       "       'admission_type_id', 'discharge_disposition_id', 'admission_source_id',\n",
       "       'time_in_hospital', 'payer_code', 'medical_specialty',\n",
       "       'num_lab_procedures', 'num_procedures', 'num_medications',\n",
       "       'number_outpatient', 'number_emergency', 'number_inpatient', 'diag_1',\n",
       "       'diag_2', 'diag_3', 'number_diagnoses', 'max_glu_serum', 'A1Cresult',\n",
       "       'metformin', 'repaglinide', 'nateglinide', 'chlorpropamide',\n",
       "       'glimepiride', 'acetohexamide', 'glipizide', 'glyburide', 'tolbutamide',\n",
       "       'pioglitazone', 'rosiglitazone', 'acarbose', 'miglitol', 'troglitazone',\n",
       "       'tolazamide', 'examide', 'citoglipton', 'insulin',\n",
       "       'glyburide-metformin', 'glipizide-metformin',\n",
       "       'glimepiride-pioglitazone', 'metformin-rosiglitazone',\n",
       "       'metformin-pioglitazone', 'change', 'diabetesMed', 'readmitted'],\n",
       "      dtype='object')"
      ]
     },
     "execution_count": 4,
     "metadata": {},
     "output_type": "execute_result"
    }
   ],
   "source": [
    "diabetic_df.columns"
   ]
  },
  {
   "cell_type": "code",
   "execution_count": 5,
   "id": "9e04fb89",
   "metadata": {},
   "outputs": [],
   "source": [
    "# set column names\n",
    "readmission_col = 'readmitted'\n",
    "age_col = 'age'\n",
    "gender_col = 'gender'\n",
    "race_col = 'race'\n",
    "readmission_30_val = '<30'"
   ]
  },
  {
   "cell_type": "code",
   "execution_count": 6,
   "id": "2c4a0079",
   "metadata": {},
   "outputs": [],
   "source": [
    "# set numeric and categorical cols\n",
    "numeric_predictor_cols = ['time_in_hospital', 'num_lab_procedures', 'num_procedures', 'num_medications',\n",
    "       'number_outpatient', 'number_emergency', 'number_inpatient', 'number_diagnoses']\n",
    "ordinal_predictor_cols = ['age']\n",
    "categorical_predictor_cols = ['race', 'gender', \n",
    "       #'diag_1', 'diag_2', 'diag_3',\n",
    "       'admission_type_id', 'discharge_disposition_id', 'admission_source_id',\n",
    "       'max_glu_serum', 'A1Cresult',\n",
    "       'metformin', 'repaglinide', 'nateglinide', 'chlorpropamide',\n",
    "       'glimepiride', 'acetohexamide', 'glipizide', 'glyburide', 'tolbutamide',\n",
    "       'pioglitazone', 'rosiglitazone', 'acarbose', 'miglitol', 'troglitazone',\n",
    "       'tolazamide', 'examide', 'citoglipton', 'insulin',\n",
    "       'glyburide-metformin', 'glipizide-metformin',\n",
    "       'glimepiride-pioglitazone', 'metformin-rosiglitazone',\n",
    "       'metformin-pioglitazone', 'change', 'diabetesMed']"
   ]
  },
  {
   "cell_type": "code",
   "execution_count": 7,
   "id": "470c8050",
   "metadata": {},
   "outputs": [],
   "source": [
    "# encode outcome col\n",
    "outcome_col = 'y'\n",
    "diabetic_df[outcome_col] = diabetic_df[readmission_col] == readmission_30_val\n",
    "\n",
    "# set predictor cols\n",
    "predictor_cols = numeric_predictor_cols + categorical_predictor_cols + ordinal_predictor_cols"
   ]
  },
  {
   "cell_type": "markdown",
   "id": "bfc5488b",
   "metadata": {},
   "source": [
    "## 1.1 Data Exploration"
   ]
  },
  {
   "cell_type": "code",
   "execution_count": 8,
   "id": "7460bdef",
   "metadata": {},
   "outputs": [],
   "source": [
    "import seaborn as sns\n",
    "import matplotlib.pyplot as plt"
   ]
  },
  {
   "cell_type": "code",
   "execution_count": 9,
   "id": "b4e0082b",
   "metadata": {},
   "outputs": [
    {
     "data": {
      "text/html": [
       "<div>\n",
       "<style scoped>\n",
       "    .dataframe tbody tr th:only-of-type {\n",
       "        vertical-align: middle;\n",
       "    }\n",
       "\n",
       "    .dataframe tbody tr th {\n",
       "        vertical-align: top;\n",
       "    }\n",
       "\n",
       "    .dataframe thead th {\n",
       "        text-align: right;\n",
       "    }\n",
       "</style>\n",
       "<table border=\"1\" class=\"dataframe\">\n",
       "  <thead>\n",
       "    <tr style=\"text-align: right;\">\n",
       "      <th></th>\n",
       "      <th>encounter_id</th>\n",
       "      <th>patient_nbr</th>\n",
       "      <th>race</th>\n",
       "      <th>gender</th>\n",
       "      <th>age</th>\n",
       "      <th>weight</th>\n",
       "      <th>admission_type_id</th>\n",
       "      <th>discharge_disposition_id</th>\n",
       "      <th>admission_source_id</th>\n",
       "      <th>time_in_hospital</th>\n",
       "      <th>...</th>\n",
       "      <th>insulin</th>\n",
       "      <th>glyburide-metformin</th>\n",
       "      <th>glipizide-metformin</th>\n",
       "      <th>glimepiride-pioglitazone</th>\n",
       "      <th>metformin-rosiglitazone</th>\n",
       "      <th>metformin-pioglitazone</th>\n",
       "      <th>change</th>\n",
       "      <th>diabetesMed</th>\n",
       "      <th>readmitted</th>\n",
       "      <th>y</th>\n",
       "    </tr>\n",
       "  </thead>\n",
       "  <tbody>\n",
       "    <tr>\n",
       "      <th>0</th>\n",
       "      <td>2278392</td>\n",
       "      <td>8222157</td>\n",
       "      <td>Caucasian</td>\n",
       "      <td>Female</td>\n",
       "      <td>[0-10)</td>\n",
       "      <td>NaN</td>\n",
       "      <td>6</td>\n",
       "      <td>25</td>\n",
       "      <td>1</td>\n",
       "      <td>1</td>\n",
       "      <td>...</td>\n",
       "      <td>No</td>\n",
       "      <td>No</td>\n",
       "      <td>No</td>\n",
       "      <td>No</td>\n",
       "      <td>No</td>\n",
       "      <td>No</td>\n",
       "      <td>No</td>\n",
       "      <td>No</td>\n",
       "      <td>NO</td>\n",
       "      <td>False</td>\n",
       "    </tr>\n",
       "    <tr>\n",
       "      <th>14923</th>\n",
       "      <td>57716712</td>\n",
       "      <td>76430070</td>\n",
       "      <td>Caucasian</td>\n",
       "      <td>Male</td>\n",
       "      <td>[0-10)</td>\n",
       "      <td>[0-25)</td>\n",
       "      <td>6</td>\n",
       "      <td>1</td>\n",
       "      <td>17</td>\n",
       "      <td>4</td>\n",
       "      <td>...</td>\n",
       "      <td>Up</td>\n",
       "      <td>No</td>\n",
       "      <td>No</td>\n",
       "      <td>No</td>\n",
       "      <td>No</td>\n",
       "      <td>No</td>\n",
       "      <td>Ch</td>\n",
       "      <td>Yes</td>\n",
       "      <td>&gt;30</td>\n",
       "      <td>False</td>\n",
       "    </tr>\n",
       "    <tr>\n",
       "      <th>14892</th>\n",
       "      <td>57623322</td>\n",
       "      <td>97918434</td>\n",
       "      <td>Caucasian</td>\n",
       "      <td>Male</td>\n",
       "      <td>[0-10)</td>\n",
       "      <td>NaN</td>\n",
       "      <td>1</td>\n",
       "      <td>1</td>\n",
       "      <td>7</td>\n",
       "      <td>1</td>\n",
       "      <td>...</td>\n",
       "      <td>No</td>\n",
       "      <td>No</td>\n",
       "      <td>No</td>\n",
       "      <td>No</td>\n",
       "      <td>No</td>\n",
       "      <td>No</td>\n",
       "      <td>No</td>\n",
       "      <td>No</td>\n",
       "      <td>NO</td>\n",
       "      <td>False</td>\n",
       "    </tr>\n",
       "    <tr>\n",
       "      <th>7669</th>\n",
       "      <td>35940402</td>\n",
       "      <td>17596530</td>\n",
       "      <td>Caucasian</td>\n",
       "      <td>Female</td>\n",
       "      <td>[0-10)</td>\n",
       "      <td>NaN</td>\n",
       "      <td>3</td>\n",
       "      <td>1</td>\n",
       "      <td>1</td>\n",
       "      <td>2</td>\n",
       "      <td>...</td>\n",
       "      <td>Steady</td>\n",
       "      <td>No</td>\n",
       "      <td>No</td>\n",
       "      <td>No</td>\n",
       "      <td>No</td>\n",
       "      <td>No</td>\n",
       "      <td>No</td>\n",
       "      <td>Yes</td>\n",
       "      <td>NO</td>\n",
       "      <td>False</td>\n",
       "    </tr>\n",
       "    <tr>\n",
       "      <th>7751</th>\n",
       "      <td>36107376</td>\n",
       "      <td>18055827</td>\n",
       "      <td>Caucasian</td>\n",
       "      <td>Male</td>\n",
       "      <td>[0-10)</td>\n",
       "      <td>NaN</td>\n",
       "      <td>2</td>\n",
       "      <td>1</td>\n",
       "      <td>1</td>\n",
       "      <td>2</td>\n",
       "      <td>...</td>\n",
       "      <td>Steady</td>\n",
       "      <td>No</td>\n",
       "      <td>No</td>\n",
       "      <td>No</td>\n",
       "      <td>No</td>\n",
       "      <td>No</td>\n",
       "      <td>No</td>\n",
       "      <td>Yes</td>\n",
       "      <td>NO</td>\n",
       "      <td>False</td>\n",
       "    </tr>\n",
       "  </tbody>\n",
       "</table>\n",
       "<p>5 rows × 51 columns</p>\n",
       "</div>"
      ],
      "text/plain": [
       "       encounter_id  patient_nbr       race  gender     age  weight  \\\n",
       "0           2278392      8222157  Caucasian  Female  [0-10)     NaN   \n",
       "14923      57716712     76430070  Caucasian    Male  [0-10)  [0-25)   \n",
       "14892      57623322     97918434  Caucasian    Male  [0-10)     NaN   \n",
       "7669       35940402     17596530  Caucasian  Female  [0-10)     NaN   \n",
       "7751       36107376     18055827  Caucasian    Male  [0-10)     NaN   \n",
       "\n",
       "       admission_type_id  discharge_disposition_id  admission_source_id  \\\n",
       "0                      6                        25                    1   \n",
       "14923                  6                         1                   17   \n",
       "14892                  1                         1                    7   \n",
       "7669                   3                         1                    1   \n",
       "7751                   2                         1                    1   \n",
       "\n",
       "       time_in_hospital  ... insulin glyburide-metformin  glipizide-metformin  \\\n",
       "0                     1  ...      No                  No                   No   \n",
       "14923                 4  ...      Up                  No                   No   \n",
       "14892                 1  ...      No                  No                   No   \n",
       "7669                  2  ...  Steady                  No                   No   \n",
       "7751                  2  ...  Steady                  No                   No   \n",
       "\n",
       "       glimepiride-pioglitazone  metformin-rosiglitazone  \\\n",
       "0                            No                       No   \n",
       "14923                        No                       No   \n",
       "14892                        No                       No   \n",
       "7669                         No                       No   \n",
       "7751                         No                       No   \n",
       "\n",
       "       metformin-pioglitazone  change  diabetesMed readmitted      y  \n",
       "0                          No      No           No         NO  False  \n",
       "14923                      No      Ch          Yes        >30  False  \n",
       "14892                      No      No           No         NO  False  \n",
       "7669                       No      No          Yes         NO  False  \n",
       "7751                       No      No          Yes         NO  False  \n",
       "\n",
       "[5 rows x 51 columns]"
      ]
     },
     "execution_count": 9,
     "metadata": {},
     "output_type": "execute_result"
    }
   ],
   "source": [
    "# get head\n",
    "diabetic_df.head()"
   ]
  },
  {
   "cell_type": "code",
   "execution_count": 10,
   "id": "6c2add32",
   "metadata": {},
   "outputs": [
    {
     "data": {
      "text/plain": [
       "Index(['encounter_id', 'patient_nbr', 'race', 'gender', 'age', 'weight',\n",
       "       'admission_type_id', 'discharge_disposition_id', 'admission_source_id',\n",
       "       'time_in_hospital', 'payer_code', 'medical_specialty',\n",
       "       'num_lab_procedures', 'num_procedures', 'num_medications',\n",
       "       'number_outpatient', 'number_emergency', 'number_inpatient', 'diag_1',\n",
       "       'diag_2', 'diag_3', 'number_diagnoses', 'max_glu_serum', 'A1Cresult',\n",
       "       'metformin', 'repaglinide', 'nateglinide', 'chlorpropamide',\n",
       "       'glimepiride', 'acetohexamide', 'glipizide', 'glyburide', 'tolbutamide',\n",
       "       'pioglitazone', 'rosiglitazone', 'acarbose', 'miglitol', 'troglitazone',\n",
       "       'tolazamide', 'examide', 'citoglipton', 'insulin',\n",
       "       'glyburide-metformin', 'glipizide-metformin',\n",
       "       'glimepiride-pioglitazone', 'metformin-rosiglitazone',\n",
       "       'metformin-pioglitazone', 'change', 'diabetesMed', 'readmitted', 'y'],\n",
       "      dtype='object')"
      ]
     },
     "execution_count": 10,
     "metadata": {},
     "output_type": "execute_result"
    }
   ],
   "source": [
    "diabetic_df.columns"
   ]
  },
  {
   "cell_type": "code",
   "execution_count": 11,
   "id": "49fe4eb6",
   "metadata": {},
   "outputs": [
    {
     "data": {
      "text/html": [
       "<div>\n",
       "<style scoped>\n",
       "    .dataframe tbody tr th:only-of-type {\n",
       "        vertical-align: middle;\n",
       "    }\n",
       "\n",
       "    .dataframe tbody tr th {\n",
       "        vertical-align: top;\n",
       "    }\n",
       "\n",
       "    .dataframe thead th {\n",
       "        text-align: right;\n",
       "    }\n",
       "</style>\n",
       "<table border=\"1\" class=\"dataframe\">\n",
       "  <thead>\n",
       "    <tr style=\"text-align: right;\">\n",
       "      <th></th>\n",
       "      <th>encounter_id</th>\n",
       "      <th>patient_nbr</th>\n",
       "      <th>admission_type_id</th>\n",
       "      <th>discharge_disposition_id</th>\n",
       "      <th>admission_source_id</th>\n",
       "      <th>time_in_hospital</th>\n",
       "      <th>num_lab_procedures</th>\n",
       "      <th>num_procedures</th>\n",
       "      <th>num_medications</th>\n",
       "      <th>number_outpatient</th>\n",
       "      <th>number_emergency</th>\n",
       "      <th>number_inpatient</th>\n",
       "      <th>number_diagnoses</th>\n",
       "    </tr>\n",
       "  </thead>\n",
       "  <tbody>\n",
       "    <tr>\n",
       "      <th>count</th>\n",
       "      <td>1.017660e+05</td>\n",
       "      <td>1.017660e+05</td>\n",
       "      <td>101766.000000</td>\n",
       "      <td>101766.000000</td>\n",
       "      <td>101766.000000</td>\n",
       "      <td>101766.000000</td>\n",
       "      <td>101766.000000</td>\n",
       "      <td>101766.000000</td>\n",
       "      <td>101766.000000</td>\n",
       "      <td>101766.000000</td>\n",
       "      <td>101766.000000</td>\n",
       "      <td>101766.000000</td>\n",
       "      <td>101766.000000</td>\n",
       "    </tr>\n",
       "    <tr>\n",
       "      <th>mean</th>\n",
       "      <td>1.652016e+08</td>\n",
       "      <td>5.433040e+07</td>\n",
       "      <td>2.024006</td>\n",
       "      <td>3.715642</td>\n",
       "      <td>5.754437</td>\n",
       "      <td>4.395987</td>\n",
       "      <td>43.095641</td>\n",
       "      <td>1.339730</td>\n",
       "      <td>16.021844</td>\n",
       "      <td>0.369357</td>\n",
       "      <td>0.197836</td>\n",
       "      <td>0.635566</td>\n",
       "      <td>7.422607</td>\n",
       "    </tr>\n",
       "    <tr>\n",
       "      <th>std</th>\n",
       "      <td>1.026403e+08</td>\n",
       "      <td>3.869636e+07</td>\n",
       "      <td>1.445403</td>\n",
       "      <td>5.280166</td>\n",
       "      <td>4.064081</td>\n",
       "      <td>2.985108</td>\n",
       "      <td>19.674362</td>\n",
       "      <td>1.705807</td>\n",
       "      <td>8.127566</td>\n",
       "      <td>1.267265</td>\n",
       "      <td>0.930472</td>\n",
       "      <td>1.262863</td>\n",
       "      <td>1.933600</td>\n",
       "    </tr>\n",
       "    <tr>\n",
       "      <th>min</th>\n",
       "      <td>1.252200e+04</td>\n",
       "      <td>1.350000e+02</td>\n",
       "      <td>1.000000</td>\n",
       "      <td>1.000000</td>\n",
       "      <td>1.000000</td>\n",
       "      <td>1.000000</td>\n",
       "      <td>1.000000</td>\n",
       "      <td>0.000000</td>\n",
       "      <td>1.000000</td>\n",
       "      <td>0.000000</td>\n",
       "      <td>0.000000</td>\n",
       "      <td>0.000000</td>\n",
       "      <td>1.000000</td>\n",
       "    </tr>\n",
       "    <tr>\n",
       "      <th>25%</th>\n",
       "      <td>8.496119e+07</td>\n",
       "      <td>2.341322e+07</td>\n",
       "      <td>1.000000</td>\n",
       "      <td>1.000000</td>\n",
       "      <td>1.000000</td>\n",
       "      <td>2.000000</td>\n",
       "      <td>31.000000</td>\n",
       "      <td>0.000000</td>\n",
       "      <td>10.000000</td>\n",
       "      <td>0.000000</td>\n",
       "      <td>0.000000</td>\n",
       "      <td>0.000000</td>\n",
       "      <td>6.000000</td>\n",
       "    </tr>\n",
       "    <tr>\n",
       "      <th>50%</th>\n",
       "      <td>1.523890e+08</td>\n",
       "      <td>4.550514e+07</td>\n",
       "      <td>1.000000</td>\n",
       "      <td>1.000000</td>\n",
       "      <td>7.000000</td>\n",
       "      <td>4.000000</td>\n",
       "      <td>44.000000</td>\n",
       "      <td>1.000000</td>\n",
       "      <td>15.000000</td>\n",
       "      <td>0.000000</td>\n",
       "      <td>0.000000</td>\n",
       "      <td>0.000000</td>\n",
       "      <td>8.000000</td>\n",
       "    </tr>\n",
       "    <tr>\n",
       "      <th>75%</th>\n",
       "      <td>2.302709e+08</td>\n",
       "      <td>8.754595e+07</td>\n",
       "      <td>3.000000</td>\n",
       "      <td>4.000000</td>\n",
       "      <td>7.000000</td>\n",
       "      <td>6.000000</td>\n",
       "      <td>57.000000</td>\n",
       "      <td>2.000000</td>\n",
       "      <td>20.000000</td>\n",
       "      <td>0.000000</td>\n",
       "      <td>0.000000</td>\n",
       "      <td>1.000000</td>\n",
       "      <td>9.000000</td>\n",
       "    </tr>\n",
       "    <tr>\n",
       "      <th>max</th>\n",
       "      <td>4.438672e+08</td>\n",
       "      <td>1.895026e+08</td>\n",
       "      <td>8.000000</td>\n",
       "      <td>28.000000</td>\n",
       "      <td>25.000000</td>\n",
       "      <td>14.000000</td>\n",
       "      <td>132.000000</td>\n",
       "      <td>6.000000</td>\n",
       "      <td>81.000000</td>\n",
       "      <td>42.000000</td>\n",
       "      <td>76.000000</td>\n",
       "      <td>21.000000</td>\n",
       "      <td>16.000000</td>\n",
       "    </tr>\n",
       "  </tbody>\n",
       "</table>\n",
       "</div>"
      ],
      "text/plain": [
       "       encounter_id   patient_nbr  admission_type_id  \\\n",
       "count  1.017660e+05  1.017660e+05      101766.000000   \n",
       "mean   1.652016e+08  5.433040e+07           2.024006   \n",
       "std    1.026403e+08  3.869636e+07           1.445403   \n",
       "min    1.252200e+04  1.350000e+02           1.000000   \n",
       "25%    8.496119e+07  2.341322e+07           1.000000   \n",
       "50%    1.523890e+08  4.550514e+07           1.000000   \n",
       "75%    2.302709e+08  8.754595e+07           3.000000   \n",
       "max    4.438672e+08  1.895026e+08           8.000000   \n",
       "\n",
       "       discharge_disposition_id  admission_source_id  time_in_hospital  \\\n",
       "count             101766.000000        101766.000000     101766.000000   \n",
       "mean                   3.715642             5.754437          4.395987   \n",
       "std                    5.280166             4.064081          2.985108   \n",
       "min                    1.000000             1.000000          1.000000   \n",
       "25%                    1.000000             1.000000          2.000000   \n",
       "50%                    1.000000             7.000000          4.000000   \n",
       "75%                    4.000000             7.000000          6.000000   \n",
       "max                   28.000000            25.000000         14.000000   \n",
       "\n",
       "       num_lab_procedures  num_procedures  num_medications  number_outpatient  \\\n",
       "count       101766.000000   101766.000000    101766.000000      101766.000000   \n",
       "mean            43.095641        1.339730        16.021844           0.369357   \n",
       "std             19.674362        1.705807         8.127566           1.267265   \n",
       "min              1.000000        0.000000         1.000000           0.000000   \n",
       "25%             31.000000        0.000000        10.000000           0.000000   \n",
       "50%             44.000000        1.000000        15.000000           0.000000   \n",
       "75%             57.000000        2.000000        20.000000           0.000000   \n",
       "max            132.000000        6.000000        81.000000          42.000000   \n",
       "\n",
       "       number_emergency  number_inpatient  number_diagnoses  \n",
       "count     101766.000000     101766.000000     101766.000000  \n",
       "mean           0.197836          0.635566          7.422607  \n",
       "std            0.930472          1.262863          1.933600  \n",
       "min            0.000000          0.000000          1.000000  \n",
       "25%            0.000000          0.000000          6.000000  \n",
       "50%            0.000000          0.000000          8.000000  \n",
       "75%            0.000000          1.000000          9.000000  \n",
       "max           76.000000         21.000000         16.000000  "
      ]
     },
     "execution_count": 11,
     "metadata": {},
     "output_type": "execute_result"
    }
   ],
   "source": [
    "diabetic_df.describe()"
   ]
  },
  {
   "cell_type": "code",
   "execution_count": 12,
   "id": "0e543fa1",
   "metadata": {},
   "outputs": [
    {
     "data": {
      "text/plain": [
       "array(['NO', '>30', '<30'], dtype=object)"
      ]
     },
     "execution_count": 12,
     "metadata": {},
     "output_type": "execute_result"
    }
   ],
   "source": [
    "diabetic_df[readmission_col].unique()"
   ]
  },
  {
   "cell_type": "code",
   "execution_count": 13,
   "id": "c8b079d9",
   "metadata": {},
   "outputs": [
    {
     "name": "stderr",
     "output_type": "stream",
     "text": [
      "/tmp/ipykernel_75185/4172984513.py:10: SettingWithCopyWarning: \n",
      "A value is trying to be set on a copy of a slice from a DataFrame\n",
      "\n",
      "See the caveats in the documentation: https://pandas.pydata.org/pandas-docs/stable/user_guide/indexing.html#returning-a-view-versus-a-copy\n",
      "  readmission_30_df.sort_values(by=age_col, inplace=True)\n",
      "/tmp/ipykernel_75185/4172984513.py:23: UserWarning: set_ticklabels() should only be used with a fixed number of ticks, i.e. after set_ticks() or using a FixedLocator.\n",
      "  ax.set_xticklabels(ax.get_xticklabels(), rotation=45, ha='right')\n",
      "/tmp/ipykernel_75185/4172984513.py:23: UserWarning: set_ticklabels() should only be used with a fixed number of ticks, i.e. after set_ticks() or using a FixedLocator.\n",
      "  ax.set_xticklabels(ax.get_xticklabels(), rotation=45, ha='right')\n",
      "/tmp/ipykernel_75185/4172984513.py:23: UserWarning: set_ticklabels() should only be used with a fixed number of ticks, i.e. after set_ticks() or using a FixedLocator.\n",
      "  ax.set_xticklabels(ax.get_xticklabels(), rotation=45, ha='right')\n"
     ]
    },
    {
     "data": {
      "image/png": "[encoded data removed]",
      "text/plain": [
       "<Figure size 1000x800 with 3 Axes>"
      ]
     },
     "metadata": {},
     "output_type": "display_data"
    }
   ],
   "source": [
    "group_keys = [age_col, gender_col, race_col]\n",
    "\n",
    "# create figure\n",
    "fig, axes = plt.subplots(ncols=3, nrows=1, figsize=(10, 8))\n",
    "\n",
    "# get patients who were readmitted <30 days\n",
    "readmission_30_df = diabetic_df.query(f'{readmission_col} == \"{readmission_30_val}\"')\n",
    "\n",
    "# sort values by age\n",
    "readmission_30_df.sort_values(by=age_col, inplace=True)\n",
    "\n",
    "# plot\n",
    "for key, ax in zip(group_keys, axes.flat):\n",
    "\n",
    "    # get hue order\n",
    "    hue_order = readmission_30_df[age_col] if key == age_col else None\n",
    "    \n",
    "    # get rates of readmission (out of all patients)\n",
    "    group_rates = readmission_30_df.groupby(key)[outcome_col].count() / diabetic_df.groupby(key).count()[outcome_col]\n",
    "    group_rates = group_rates.reset_index()\n",
    "    \n",
    "    sns.barplot(data=group_rates, x=key, y=outcome_col, hue=key, ax=ax)\n",
    "    ax.set_xticklabels(ax.get_xticklabels(), rotation=45, ha='right')\n",
    "    ax.set_title(key)\n",
    "    ax.set_ylabel('30-day readmission rate')\n",
    "\n",
    "plt.tight_layout()"
   ]
  },
  {
   "cell_type": "markdown",
   "id": "de19a07e",
   "metadata": {},
   "source": [
    "## 1.2 Model Development"
   ]
  },
  {
   "cell_type": "code",
   "execution_count": 14,
   "id": "0f96d3d1",
   "metadata": {},
   "outputs": [
    {
     "name": "stderr",
     "output_type": "stream",
     "text": [
      "Extension for Scikit-learn* enabled (https://github.com/uxlfoundation/scikit-learn-intelex)\n"
     ]
    }
   ],
   "source": [
    "from sklearnex import patch_sklearn\n",
    "patch_sklearn()"
   ]
  },
  {
   "cell_type": "code",
   "execution_count": 15,
   "id": "e9ef8a7c",
   "metadata": {},
   "outputs": [],
   "source": [
    "import gc\n",
    "from collections import defaultdict\n",
    "from itertools import product\n",
    "from sklearn.tree import DecisionTreeClassifier\n",
    "from sklearn.neural_network import MLPClassifier\n",
    "from sklearn.model_selection import train_test_split, GridSearchCV\n",
    "from sklearn.preprocessing import StandardScaler, OneHotEncoder, OrdinalEncoder, PolynomialFeatures\n",
    "from sklearn.compose import ColumnTransformer\n",
    "from sklearn.pipeline import Pipeline\n",
    "from sklearn.feature_selection import SelectPercentile, VarianceThreshold\n",
    "# from src.lightning_pipelines import MLPClassifier_training_pipeline\n",
    "from sklearnex.linear_model import LogisticRegression\n",
    "from sklearnex.ensemble import RandomForestClassifier\n",
    "from confidenceinterval import roc_auc_score"
   ]
  },
  {
   "cell_type": "code",
   "execution_count": 16,
   "id": "86599ffc",
   "metadata": {},
   "outputs": [],
   "source": [
    "models = [LogisticRegression, RandomForestClassifier, MLPClassifier] \n",
    "cv = 3 # set k-fold for CV"
   ]
  },
  {
   "cell_type": "code",
   "execution_count": 17,
   "id": "7dcf15ce",
   "metadata": {},
   "outputs": [],
   "source": [
    "# set hyperparameter grid to search\n",
    "hp_grids = {\n",
    "    MLPClassifier.__name__ : {\n",
    "        'hidden_layer_sizes': [(128,), (64,64)],\n",
    "        'alpha': [1e-4, 1e-3],\n",
    "        'learning_rate_init': [1e-4, 1e-3],\n",
    "        'early_stopping': [True]\n",
    "    },\n",
    "    # 'MLPLightningClassifier': {\n",
    "    #     'init_lr':[1e-3, 1e-4],\n",
    "    #     'hidden_dim':[64, 128],\n",
    "    #     'num_layers':[1,2],\n",
    "    # },\n",
    "    DecisionTreeClassifier.__name__ : {\n",
    "        'criterion': ['gini'],\n",
    "        'max_depth': [None, 5, 10],\n",
    "        'min_samples_split': [2, 10],\n",
    "        'min_samples_leaf': [1, 4],\n",
    "    },\n",
    "    LogisticRegression.__name__ : {\n",
    "        'penalty': ['l1', 'l2'],\n",
    "        'C': [1e-1, 5e-1, .99],\n",
    "        'solver': ['saga'],\n",
    "        # 'max_iter': [1000]\n",
    "    },\n",
    "    RandomForestClassifier.__name__ : {\n",
    "        'criterion': ['entropy'],\n",
    "        'max_depth': [None, 5, 10],\n",
    "        'min_samples_split': [2, 10],\n",
    "        'min_samples_leaf': [1, 2, 4]\n",
    "    }\n",
    "}"
   ]
  },
  {
   "cell_type": "code",
   "execution_count": 18,
   "id": "aad57bb5",
   "metadata": {},
   "outputs": [],
   "source": [
    "# split train/test data\n",
    "train_data, test_data = train_test_split(diabetic_df, test_size=.2, stratify=diabetic_df[outcome_col], random_state=12)"
   ]
  },
  {
   "cell_type": "code",
   "execution_count": 19,
   "id": "85adf39f",
   "metadata": {},
   "outputs": [],
   "source": [
    "# define model training loop\n",
    "def train_models(models, params, grid_search=True, cv=3, random_state=40):\n",
    "  results = defaultdict(dict)\n",
    "  \n",
    "  for i, model in enumerate(models):\n",
    "    model_name = model.__name__\n",
    "    \n",
    "    # solution for multicollinearity\n",
    "    if model_name == LogisticRegression.__name__:\n",
    "      ohe_kwargs = dict(drop='first')\n",
    "    else:\n",
    "      ohe_kwargs = dict(drop='if_binary')\n",
    "    \n",
    "    # fit encoders\n",
    "    ohe = OneHotEncoder(sparse_output=False, **ohe_kwargs)\n",
    "    ohe.fit(diabetic_df[categorical_predictor_cols])\n",
    "    ohe_cols = ohe.get_feature_names_out().tolist()\n",
    "\n",
    "    oe = OrdinalEncoder()\n",
    "    oe.fit(diabetic_df[ordinal_predictor_cols]) \n",
    "\n",
    "    def preprocess_data(df):\n",
    "      # create new df; add ohe cols df & drop non-ohe columns\n",
    "      data = pd.concat([df[[*numeric_predictor_cols, outcome_col]].copy(),\n",
    "                            pd.DataFrame(ohe.transform(df[categorical_predictor_cols]), columns=ohe_cols, index=df.index),\n",
    "                            pd.DataFrame(oe.transform(df[ordinal_predictor_cols]), columns=ordinal_predictor_cols, index=df.index),\n",
    "                            ], axis=1)\n",
    "\n",
    "      return data\n",
    "    \n",
    "    transformed_predictor_cols = numeric_predictor_cols + ordinal_predictor_cols + ohe_cols\n",
    "    \n",
    "    # preprocess data\n",
    "    train_df = preprocess_data(train_data)\n",
    "    \n",
    "    transform_kwargs = dict(transform=\"pandas\")\n",
    "    \n",
    "    # define pipeline args\n",
    "    pipeline_args = [\n",
    "      (\"column_transform\", ColumnTransformer([\n",
    "            ('numeric', StandardScaler(), numeric_predictor_cols),\n",
    "            ('untransformed', 'passthrough', ohe_cols+ordinal_predictor_cols)\n",
    "      ]).set_output(**transform_kwargs)),\n",
    "      ('polynomial', PolynomialFeatures(2).set_output(**transform_kwargs))\n",
    "    ]\n",
    "    \n",
    "    fs_pipeline_args = [\n",
    "      ('remove_constant', VarianceThreshold(threshold=0).set_output(**transform_kwargs)),\n",
    "      ('feature_selection', SelectPercentile(percentile=15).set_output(**transform_kwargs)),\n",
    "    ]\n",
    "    \n",
    "    fs_pipeline = Pipeline([*pipeline_args, *fs_pipeline_args])\n",
    "    selected_features = fs_pipeline.fit_transform(train_df[transformed_predictor_cols], train_df[outcome_col])\n",
    "        \n",
    "    pipeline_args.append(ColumnTransformer([\n",
    "        ('untransformed', 'passthrough', selected_features.columns)\n",
    "      ]).set_output(**transform_kwargs))\n",
    "    \n",
    "    pipeline_args = []\n",
    "    \n",
    "    if grid_search:\n",
    "      print(f'Running CV Grid Search for {model_name}')\n",
    "      clf = GridSearchCV(estimator=model(random_state=random_state), \n",
    "                         param_grid=params[model_name], \n",
    "                         scoring='roc_auc', \n",
    "                         cv=cv, \n",
    "                         verbose=2) # Stratified KFold CV\n",
    "    else:\n",
    "      print(f'Training single instance of {model_name}')\n",
    "      clf = model(random_state=random_state, **params[model_name])\n",
    "    \n",
    "    # train model\n",
    "    print(f'Using {len(selected_features.columns)} features.')\n",
    "    clf.fit(selected_features, train_df[outcome_col])\n",
    "    \n",
    "    # log results\n",
    "    results[model_name]['clf'] = clf\n",
    "    \n",
    "    if not grid_search:\n",
    "      test_df = preprocess_data(test_data)\n",
    "      y_pred = clf.predict_proba(fs_pipeline.transform(test_df[transformed_predictor_cols]))\n",
    "      auc, ci = roc_auc_score(y_pred=y_pred[:,-1], \n",
    "                              y_true=test_data[outcome_col].astype(int), \n",
    "                              confidence_level=0.95)\n",
    "      results[model_name]['auc'] = dict(auc=auc, ci=ci)\n",
    "      \n",
    "  # return results, selected_features\n",
    "    return results"
   ]
  },
  {
   "cell_type": "code",
   "execution_count": 20,
   "id": "6d6c385a",
   "metadata": {},
   "outputs": [
    {
     "name": "stdout",
     "output_type": "stream",
     "text": [
      "Running CV Grid Search for LogisticRegression\n",
      "Using 693 features.\n",
      "Fitting 3 folds for each of 6 candidates, totalling 18 fits\n"
     ]
    },
    {
     "name": "stderr",
     "output_type": "stream",
     "text": [
      "/home/hentipapai/miniconda3/envs/cph200b_project3/lib/python3.11/site-packages/sklearn/linear_model/_sag.py:349: ConvergenceWarning: The max_iter was reached which means the coef_ did not converge\n",
      "  warnings.warn(\n"
     ]
    },
    {
     "name": "stdout",
     "output_type": "stream",
     "text": [
      "[CV] END .....................C=0.1, penalty=l1, solver=saga; total time=  37.8s\n"
     ]
    },
    {
     "name": "stderr",
     "output_type": "stream",
     "text": [
      "/home/hentipapai/miniconda3/envs/cph200b_project3/lib/python3.11/site-packages/sklearn/linear_model/_sag.py:349: ConvergenceWarning: The max_iter was reached which means the coef_ did not converge\n",
      "  warnings.warn(\n"
     ]
    },
    {
     "name": "stdout",
     "output_type": "stream",
     "text": [
      "[CV] END .....................C=0.1, penalty=l1, solver=saga; total time=  44.6s\n"
     ]
    },
    {
     "name": "stderr",
     "output_type": "stream",
     "text": [
      "/home/hentipapai/miniconda3/envs/cph200b_project3/lib/python3.11/site-packages/sklearn/linear_model/_sag.py:349: ConvergenceWarning: The max_iter was reached which means the coef_ did not converge\n",
      "  warnings.warn(\n"
     ]
    },
    {
     "name": "stdout",
     "output_type": "stream",
     "text": [
      "[CV] END .....................C=0.1, penalty=l1, solver=saga; total time=  35.3s\n"
     ]
    },
    {
     "name": "stderr",
     "output_type": "stream",
     "text": [
      "/home/hentipapai/miniconda3/envs/cph200b_project3/lib/python3.11/site-packages/sklearn/linear_model/_sag.py:349: ConvergenceWarning: The max_iter was reached which means the coef_ did not converge\n",
      "  warnings.warn(\n"
     ]
    },
    {
     "name": "stdout",
     "output_type": "stream",
     "text": [
      "[CV] END .....................C=0.1, penalty=l2, solver=saga; total time=  24.2s\n"
     ]
    },
    {
     "name": "stderr",
     "output_type": "stream",
     "text": [
      "/home/hentipapai/miniconda3/envs/cph200b_project3/lib/python3.11/site-packages/sklearn/linear_model/_sag.py:349: ConvergenceWarning: The max_iter was reached which means the coef_ did not converge\n",
      "  warnings.warn(\n"
     ]
    },
    {
     "name": "stdout",
     "output_type": "stream",
     "text": [
      "[CV] END .....................C=0.1, penalty=l2, solver=saga; total time=  26.2s\n"
     ]
    },
    {
     "name": "stderr",
     "output_type": "stream",
     "text": [
      "/home/hentipapai/miniconda3/envs/cph200b_project3/lib/python3.11/site-packages/sklearn/linear_model/_sag.py:349: ConvergenceWarning: The max_iter was reached which means the coef_ did not converge\n",
      "  warnings.warn(\n"
     ]
    },
    {
     "name": "stdout",
     "output_type": "stream",
     "text": [
      "[CV] END .....................C=0.1, penalty=l2, solver=saga; total time=  30.9s\n"
     ]
    },
    {
     "name": "stderr",
     "output_type": "stream",
     "text": [
      "/home/hentipapai/miniconda3/envs/cph200b_project3/lib/python3.11/site-packages/sklearn/linear_model/_sag.py:349: ConvergenceWarning: The max_iter was reached which means the coef_ did not converge\n",
      "  warnings.warn(\n"
     ]
    },
    {
     "name": "stdout",
     "output_type": "stream",
     "text": [
      "[CV] END .....................C=0.5, penalty=l1, solver=saga; total time=  46.2s\n"
     ]
    },
    {
     "name": "stderr",
     "output_type": "stream",
     "text": [
      "/home/hentipapai/miniconda3/envs/cph200b_project3/lib/python3.11/site-packages/sklearn/linear_model/_sag.py:349: ConvergenceWarning: The max_iter was reached which means the coef_ did not converge\n",
      "  warnings.warn(\n"
     ]
    },
    {
     "name": "stdout",
     "output_type": "stream",
     "text": [
      "[CV] END .....................C=0.5, penalty=l1, solver=saga; total time=  45.5s\n"
     ]
    },
    {
     "name": "stderr",
     "output_type": "stream",
     "text": [
      "/home/hentipapai/miniconda3/envs/cph200b_project3/lib/python3.11/site-packages/sklearn/linear_model/_sag.py:349: ConvergenceWarning: The max_iter was reached which means the coef_ did not converge\n",
      "  warnings.warn(\n"
     ]
    },
    {
     "name": "stdout",
     "output_type": "stream",
     "text": [
      "[CV] END .....................C=0.5, penalty=l1, solver=saga; total time=  49.7s\n"
     ]
    },
    {
     "name": "stderr",
     "output_type": "stream",
     "text": [
      "/home/hentipapai/miniconda3/envs/cph200b_project3/lib/python3.11/site-packages/sklearn/linear_model/_sag.py:349: ConvergenceWarning: The max_iter was reached which means the coef_ did not converge\n",
      "  warnings.warn(\n"
     ]
    },
    {
     "name": "stdout",
     "output_type": "stream",
     "text": [
      "[CV] END .....................C=0.5, penalty=l2, solver=saga; total time=  43.3s\n"
     ]
    },
    {
     "name": "stderr",
     "output_type": "stream",
     "text": [
      "/home/hentipapai/miniconda3/envs/cph200b_project3/lib/python3.11/site-packages/sklearn/linear_model/_sag.py:349: ConvergenceWarning: The max_iter was reached which means the coef_ did not converge\n",
      "  warnings.warn(\n"
     ]
    },
    {
     "name": "stdout",
     "output_type": "stream",
     "text": [
      "[CV] END .....................C=0.5, penalty=l2, solver=saga; total time=  34.3s\n"
     ]
    },
    {
     "name": "stderr",
     "output_type": "stream",
     "text": [
      "/home/hentipapai/miniconda3/envs/cph200b_project3/lib/python3.11/site-packages/sklearn/linear_model/_sag.py:349: ConvergenceWarning: The max_iter was reached which means the coef_ did not converge\n",
      "  warnings.warn(\n"
     ]
    },
    {
     "name": "stdout",
     "output_type": "stream",
     "text": [
      "[CV] END .....................C=0.5, penalty=l2, solver=saga; total time=  36.9s\n"
     ]
    },
    {
     "name": "stderr",
     "output_type": "stream",
     "text": [
      "/home/hentipapai/miniconda3/envs/cph200b_project3/lib/python3.11/site-packages/sklearn/linear_model/_sag.py:349: ConvergenceWarning: The max_iter was reached which means the coef_ did not converge\n",
      "  warnings.warn(\n"
     ]
    },
    {
     "name": "stdout",
     "output_type": "stream",
     "text": [
      "[CV] END ....................C=0.99, penalty=l1, solver=saga; total time=  56.2s\n"
     ]
    },
    {
     "name": "stderr",
     "output_type": "stream",
     "text": [
      "/home/hentipapai/miniconda3/envs/cph200b_project3/lib/python3.11/site-packages/sklearn/linear_model/_sag.py:349: ConvergenceWarning: The max_iter was reached which means the coef_ did not converge\n",
      "  warnings.warn(\n"
     ]
    },
    {
     "name": "stdout",
     "output_type": "stream",
     "text": [
      "[CV] END ....................C=0.99, penalty=l1, solver=saga; total time=  51.8s\n"
     ]
    },
    {
     "name": "stderr",
     "output_type": "stream",
     "text": [
      "/home/hentipapai/miniconda3/envs/cph200b_project3/lib/python3.11/site-packages/sklearn/linear_model/_sag.py:349: ConvergenceWarning: The max_iter was reached which means the coef_ did not converge\n",
      "  warnings.warn(\n"
     ]
    },
    {
     "name": "stdout",
     "output_type": "stream",
     "text": [
      "[CV] END ....................C=0.99, penalty=l1, solver=saga; total time=  57.0s\n"
     ]
    },
    {
     "name": "stderr",
     "output_type": "stream",
     "text": [
      "/home/hentipapai/miniconda3/envs/cph200b_project3/lib/python3.11/site-packages/sklearn/linear_model/_sag.py:349: ConvergenceWarning: The max_iter was reached which means the coef_ did not converge\n",
      "  warnings.warn(\n"
     ]
    },
    {
     "name": "stdout",
     "output_type": "stream",
     "text": [
      "[CV] END ....................C=0.99, penalty=l2, solver=saga; total time=  34.1s\n"
     ]
    },
    {
     "name": "stderr",
     "output_type": "stream",
     "text": [
      "/home/hentipapai/miniconda3/envs/cph200b_project3/lib/python3.11/site-packages/sklearn/linear_model/_sag.py:349: ConvergenceWarning: The max_iter was reached which means the coef_ did not converge\n",
      "  warnings.warn(\n"
     ]
    },
    {
     "name": "stdout",
     "output_type": "stream",
     "text": [
      "[CV] END ....................C=0.99, penalty=l2, solver=saga; total time=  36.3s\n"
     ]
    },
    {
     "name": "stderr",
     "output_type": "stream",
     "text": [
      "/home/hentipapai/miniconda3/envs/cph200b_project3/lib/python3.11/site-packages/sklearn/linear_model/_sag.py:349: ConvergenceWarning: The max_iter was reached which means the coef_ did not converge\n",
      "  warnings.warn(\n"
     ]
    },
    {
     "name": "stdout",
     "output_type": "stream",
     "text": [
      "[CV] END ....................C=0.99, penalty=l2, solver=saga; total time=  37.8s\n"
     ]
    },
    {
     "name": "stderr",
     "output_type": "stream",
     "text": [
      "/home/hentipapai/miniconda3/envs/cph200b_project3/lib/python3.11/site-packages/sklearn/linear_model/_sag.py:349: ConvergenceWarning: The max_iter was reached which means the coef_ did not converge\n",
      "  warnings.warn(\n"
     ]
    }
   ],
   "source": [
    "# perform CV grid search\n",
    "cv_results_linear = train_models(models[0:1], hp_grids, cv=cv)\n",
    "# cv_results_linear, _ = train_models(models[0:1], hp_grids, cv=cv)\n",
    "# del _; gc.collect()"
   ]
  },
  {
   "cell_type": "code",
   "execution_count": 21,
   "id": "e1be2580",
   "metadata": {},
   "outputs": [
    {
     "name": "stdout",
     "output_type": "stream",
     "text": [
      "Running CV Grid Search for RandomForestClassifier\n",
      "Using 987 features.\n",
      "Fitting 3 folds for each of 18 candidates, totalling 54 fits\n",
      "[CV] END criterion=entropy, max_depth=None, min_samples_leaf=1, min_samples_split=2; total time=  38.6s\n",
      "[CV] END criterion=entropy, max_depth=None, min_samples_leaf=1, min_samples_split=2; total time=  48.3s\n",
      "[CV] END criterion=entropy, max_depth=None, min_samples_leaf=1, min_samples_split=2; total time=  37.8s\n",
      "[CV] END criterion=entropy, max_depth=None, min_samples_leaf=1, min_samples_split=10; total time=  42.1s\n",
      "[CV] END criterion=entropy, max_depth=None, min_samples_leaf=1, min_samples_split=10; total time=  40.2s\n",
      "[CV] END criterion=entropy, max_depth=None, min_samples_leaf=1, min_samples_split=10; total time=  36.6s\n",
      "[CV] END criterion=entropy, max_depth=None, min_samples_leaf=2, min_samples_split=2; total time=  37.3s\n",
      "[CV] END criterion=entropy, max_depth=None, min_samples_leaf=2, min_samples_split=2; total time=  38.8s\n",
      "[CV] END criterion=entropy, max_depth=None, min_samples_leaf=2, min_samples_split=2; total time=  38.4s\n",
      "[CV] END criterion=entropy, max_depth=None, min_samples_leaf=2, min_samples_split=10; total time=  36.0s\n",
      "[CV] END criterion=entropy, max_depth=None, min_samples_leaf=2, min_samples_split=10; total time=  37.9s\n",
      "[CV] END criterion=entropy, max_depth=None, min_samples_leaf=2, min_samples_split=10; total time=  39.2s\n",
      "[CV] END criterion=entropy, max_depth=None, min_samples_leaf=4, min_samples_split=2; total time=  34.9s\n",
      "[CV] END criterion=entropy, max_depth=None, min_samples_leaf=4, min_samples_split=2; total time=  36.5s\n",
      "[CV] END criterion=entropy, max_depth=None, min_samples_leaf=4, min_samples_split=2; total time=  36.5s\n",
      "[CV] END criterion=entropy, max_depth=None, min_samples_leaf=4, min_samples_split=10; total time=  34.9s\n",
      "[CV] END criterion=entropy, max_depth=None, min_samples_leaf=4, min_samples_split=10; total time=  35.8s\n",
      "[CV] END criterion=entropy, max_depth=None, min_samples_leaf=4, min_samples_split=10; total time=  35.6s\n",
      "[CV] END criterion=entropy, max_depth=5, min_samples_leaf=1, min_samples_split=2; total time=  11.9s\n",
      "[CV] END criterion=entropy, max_depth=5, min_samples_leaf=1, min_samples_split=2; total time=  12.7s\n",
      "[CV] END criterion=entropy, max_depth=5, min_samples_leaf=1, min_samples_split=2; total time=  11.0s\n",
      "[CV] END criterion=entropy, max_depth=5, min_samples_leaf=1, min_samples_split=10; total time=  11.2s\n",
      "[CV] END criterion=entropy, max_depth=5, min_samples_leaf=1, min_samples_split=10; total time=  11.0s\n",
      "[CV] END criterion=entropy, max_depth=5, min_samples_leaf=1, min_samples_split=10; total time=  10.8s\n",
      "[CV] END criterion=entropy, max_depth=5, min_samples_leaf=2, min_samples_split=2; total time=  11.0s\n",
      "[CV] END criterion=entropy, max_depth=5, min_samples_leaf=2, min_samples_split=2; total time=  11.6s\n",
      "[CV] END criterion=entropy, max_depth=5, min_samples_leaf=2, min_samples_split=2; total time=  12.0s\n",
      "[CV] END criterion=entropy, max_depth=5, min_samples_leaf=2, min_samples_split=10; total time=  10.9s\n",
      "[CV] END criterion=entropy, max_depth=5, min_samples_leaf=2, min_samples_split=10; total time=  11.4s\n",
      "[CV] END criterion=entropy, max_depth=5, min_samples_leaf=2, min_samples_split=10; total time=  12.5s\n",
      "[CV] END criterion=entropy, max_depth=5, min_samples_leaf=4, min_samples_split=2; total time=  12.4s\n",
      "[CV] END criterion=entropy, max_depth=5, min_samples_leaf=4, min_samples_split=2; total time=  12.7s\n",
      "[CV] END criterion=entropy, max_depth=5, min_samples_leaf=4, min_samples_split=2; total time=  11.0s\n",
      "[CV] END criterion=entropy, max_depth=5, min_samples_leaf=4, min_samples_split=10; total time=  15.2s\n",
      "[CV] END criterion=entropy, max_depth=5, min_samples_leaf=4, min_samples_split=10; total time=  13.9s\n",
      "[CV] END criterion=entropy, max_depth=5, min_samples_leaf=4, min_samples_split=10; total time=  13.8s\n",
      "[CV] END criterion=entropy, max_depth=10, min_samples_leaf=1, min_samples_split=2; total time=  23.9s\n",
      "[CV] END criterion=entropy, max_depth=10, min_samples_leaf=1, min_samples_split=2; total time=  20.4s\n",
      "[CV] END criterion=entropy, max_depth=10, min_samples_leaf=1, min_samples_split=2; total time=  20.6s\n",
      "[CV] END criterion=entropy, max_depth=10, min_samples_leaf=1, min_samples_split=10; total time=  18.0s\n",
      "[CV] END criterion=entropy, max_depth=10, min_samples_leaf=1, min_samples_split=10; total time=  17.7s\n",
      "[CV] END criterion=entropy, max_depth=10, min_samples_leaf=1, min_samples_split=10; total time=  17.7s\n",
      "[CV] END criterion=entropy, max_depth=10, min_samples_leaf=2, min_samples_split=2; total time=  18.9s\n",
      "[CV] END criterion=entropy, max_depth=10, min_samples_leaf=2, min_samples_split=2; total time=  18.6s\n",
      "[CV] END criterion=entropy, max_depth=10, min_samples_leaf=2, min_samples_split=2; total time=  25.7s\n",
      "[CV] END criterion=entropy, max_depth=10, min_samples_leaf=2, min_samples_split=10; total time=  24.2s\n",
      "[CV] END criterion=entropy, max_depth=10, min_samples_leaf=2, min_samples_split=10; total time=  24.7s\n",
      "[CV] END criterion=entropy, max_depth=10, min_samples_leaf=2, min_samples_split=10; total time=  17.7s\n",
      "[CV] END criterion=entropy, max_depth=10, min_samples_leaf=4, min_samples_split=2; total time=  18.9s\n",
      "[CV] END criterion=entropy, max_depth=10, min_samples_leaf=4, min_samples_split=2; total time=  18.9s\n",
      "[CV] END criterion=entropy, max_depth=10, min_samples_leaf=4, min_samples_split=2; total time=  20.8s\n",
      "[CV] END criterion=entropy, max_depth=10, min_samples_leaf=4, min_samples_split=10; total time=  17.7s\n",
      "[CV] END criterion=entropy, max_depth=10, min_samples_leaf=4, min_samples_split=10; total time=  17.9s\n",
      "[CV] END criterion=entropy, max_depth=10, min_samples_leaf=4, min_samples_split=10; total time=  19.2s\n"
     ]
    }
   ],
   "source": [
    "cv_results_tree = train_models(models[1:2], hp_grids, cv=cv)\n",
    "# cv_results_tree, selected_features = train_models(models[1:2], hp_grids, cv=cv)"
   ]
  },
  {
   "cell_type": "code",
   "execution_count": 22,
   "id": "41fd1832",
   "metadata": {},
   "outputs": [
    {
     "name": "stdout",
     "output_type": "stream",
     "text": [
      "Running CV Grid Search for MLPClassifier\n",
      "Using 987 features.\n",
      "Fitting 3 folds for each of 8 candidates, totalling 24 fits\n",
      "[CV] END alpha=0.0001, early_stopping=True, hidden_layer_sizes=(128,), learning_rate_init=0.0001; total time=  57.3s\n",
      "[CV] END alpha=0.0001, early_stopping=True, hidden_layer_sizes=(128,), learning_rate_init=0.0001; total time=  38.6s\n",
      "[CV] END alpha=0.0001, early_stopping=True, hidden_layer_sizes=(128,), learning_rate_init=0.0001; total time=  34.3s\n",
      "[CV] END alpha=0.0001, early_stopping=True, hidden_layer_sizes=(128,), learning_rate_init=0.001; total time=  26.4s\n",
      "[CV] END alpha=0.0001, early_stopping=True, hidden_layer_sizes=(128,), learning_rate_init=0.001; total time=  34.5s\n",
      "[CV] END alpha=0.0001, early_stopping=True, hidden_layer_sizes=(128,), learning_rate_init=0.001; total time=  36.2s\n",
      "[CV] END alpha=0.0001, early_stopping=True, hidden_layer_sizes=(64, 64), learning_rate_init=0.0001; total time=  26.7s\n",
      "[CV] END alpha=0.0001, early_stopping=True, hidden_layer_sizes=(64, 64), learning_rate_init=0.0001; total time=  31.6s\n",
      "[CV] END alpha=0.0001, early_stopping=True, hidden_layer_sizes=(64, 64), learning_rate_init=0.0001; total time=  45.8s\n",
      "[CV] END alpha=0.0001, early_stopping=True, hidden_layer_sizes=(64, 64), learning_rate_init=0.001; total time=  20.9s\n",
      "[CV] END alpha=0.0001, early_stopping=True, hidden_layer_sizes=(64, 64), learning_rate_init=0.001; total time=  27.7s\n",
      "[CV] END alpha=0.0001, early_stopping=True, hidden_layer_sizes=(64, 64), learning_rate_init=0.001; total time=  28.3s\n",
      "[CV] END alpha=0.001, early_stopping=True, hidden_layer_sizes=(128,), learning_rate_init=0.0001; total time=  37.4s\n",
      "[CV] END alpha=0.001, early_stopping=True, hidden_layer_sizes=(128,), learning_rate_init=0.0001; total time=  39.7s\n",
      "[CV] END alpha=0.001, early_stopping=True, hidden_layer_sizes=(128,), learning_rate_init=0.0001; total time=  27.0s\n",
      "[CV] END alpha=0.001, early_stopping=True, hidden_layer_sizes=(128,), learning_rate_init=0.001; total time=  29.5s\n",
      "[CV] END alpha=0.001, early_stopping=True, hidden_layer_sizes=(128,), learning_rate_init=0.001; total time=  23.1s\n",
      "[CV] END alpha=0.001, early_stopping=True, hidden_layer_sizes=(128,), learning_rate_init=0.001; total time=  34.5s\n",
      "[CV] END alpha=0.001, early_stopping=True, hidden_layer_sizes=(64, 64), learning_rate_init=0.0001; total time=  36.3s\n",
      "[CV] END alpha=0.001, early_stopping=True, hidden_layer_sizes=(64, 64), learning_rate_init=0.0001; total time=  29.8s\n",
      "[CV] END alpha=0.001, early_stopping=True, hidden_layer_sizes=(64, 64), learning_rate_init=0.0001; total time= 1.0min\n",
      "[CV] END alpha=0.001, early_stopping=True, hidden_layer_sizes=(64, 64), learning_rate_init=0.001; total time=  21.8s\n",
      "[CV] END alpha=0.001, early_stopping=True, hidden_layer_sizes=(64, 64), learning_rate_init=0.001; total time=  25.3s\n",
      "[CV] END alpha=0.001, early_stopping=True, hidden_layer_sizes=(64, 64), learning_rate_init=0.001; total time=  35.9s\n"
     ]
    }
   ],
   "source": [
    "cv_results_mlp = train_models(models[2:3], hp_grids, cv=cv)"
   ]
  },
  {
   "cell_type": "markdown",
   "id": "8e0f6f8f",
   "metadata": {},
   "source": [
    "### Train Neural Net on Lightning"
   ]
  },
  {
   "cell_type": "code",
   "execution_count": 23,
   "id": "d782a5b4",
   "metadata": {},
   "outputs": [],
   "source": [
    "# from src.lightning_pipelines import MLPClassifier_training_pipeline\n",
    "# from itertools import product"
   ]
  },
  {
   "cell_type": "code",
   "execution_count": 24,
   "id": "6f7275ac",
   "metadata": {},
   "outputs": [],
   "source": [
    "# # set training variables & labels\n",
    "# dataset_name = 'Diabetes10Year'\n",
    "# mlp_model_name = 'MLPLightningClassifier'\n",
    "\n",
    "# # hyperparamters\n",
    "# max_epochs = 50\n",
    "# patience = 5  # for early stopping\n",
    "\n",
    "# # logging params\n",
    "# wandb_kwargs = dict(project_name='CPH_200C', \n",
    "#                     wandb_entity='furtheradu', \n",
    "#                     dir_path='notebooks/..',\n",
    "#                     offline=True)\n",
    "\n",
    "# # init dataframe for best params\n",
    "# index = pd.MultiIndex.from_product([range(cv), *hp_grids[mlp_model_name].values()],\n",
    "#                                    names=['split', *hp_grids[mlp_model_name].keys()])\n",
    "# MLP_cv_results = pd.DataFrame(columns=['auc'], index=index)"
   ]
  },
  {
   "cell_type": "code",
   "execution_count": 25,
   "id": "31ff8231",
   "metadata": {},
   "outputs": [],
   "source": [
    "# # CV grid search on MLP\n",
    "# max_epochs = 1\n",
    "# for fold in range(cv):\n",
    "#     for (init_lr, hidden_dim, num_layers) in product(*hp_grids[mlp_model_name].values()):\n",
    "        \n",
    "#         pipeline_out = MLPClassifier_training_pipeline(\n",
    "#                 raw_data=pd.concat([selected_features,\n",
    "#                                     train_data[[outcome_col]]], axis=1),\n",
    "#                 model_name=mlp_model_name,\n",
    "#                 outcome_col=outcome_col,\n",
    "#                 input_features=selected_features.columns.tolist(),\n",
    "#                 dataset_name=dataset_name,\n",
    "#                 wandb_kwargs=wandb_kwargs,\n",
    "#                 max_epochs=max_epochs,\n",
    "#                 patience=patience,\n",
    "#                 fold=fold,\n",
    "#                 n_splits=cv,\n",
    "#                 hidden_dim=hidden_dim,\n",
    "#                 num_layers=num_layers,\n",
    "#                 init_lr=init_lr,            \n",
    "#             )\n",
    "\n",
    "#         trainer, model, datamodule = [pipeline_out[x] for x in ['trainer', 'model', 'datamodule']]\n",
    "    \n",
    "#         print(\"Testing model\")\n",
    "#         test_pred = trainer.test(model, datamodule)[0]\n",
    "        \n",
    "#         # unpack test prediction AUC\n",
    "#         test_auc = test_pred['test_auc']\n",
    "        \n",
    "#         # update dataframe with performance\n",
    "#         MLP_cv_results.loc[(fold, init_lr, hidden_dim, num_layers)] = test_auc"
   ]
  },
  {
   "cell_type": "code",
   "execution_count": 26,
   "id": "e8a3a327",
   "metadata": {},
   "outputs": [],
   "source": [
    "cv_results = {**cv_results_linear, **cv_results_tree, **cv_results_mlp}"
   ]
  },
  {
   "cell_type": "code",
   "execution_count": 27,
   "id": "9423e799",
   "metadata": {},
   "outputs": [],
   "source": [
    "model_names = [model.__name__ for model in models] # + [mlp_model_name]\n",
    "split_test_score_keys = [f'split{i}_test_score' for i in range(cv)]"
   ]
  },
  {
   "cell_type": "code",
   "execution_count": 28,
   "id": "c5ab749f",
   "metadata": {},
   "outputs": [
    {
     "data": {
      "text/plain": [
       "{'LogisticRegression': {'C': 0.99, 'penalty': 'l2', 'solver': 'saga'},\n",
       " 'RandomForestClassifier': {'criterion': 'entropy',\n",
       "  'max_depth': 10,\n",
       "  'min_samples_leaf': 4,\n",
       "  'min_samples_split': 2},\n",
       " 'MLPClassifier': {'alpha': 0.0001,\n",
       "  'early_stopping': True,\n",
       "  'hidden_layer_sizes': (64, 64),\n",
       "  'learning_rate_init': 0.001}}"
      ]
     },
     "execution_count": 28,
     "metadata": {},
     "output_type": "execute_result"
    }
   ],
   "source": [
    "# get best params across models\n",
    "best_params = {model_name : cv_results[model_name]['clf'].best_params_ for model_name in cv_results.keys()}\n",
    "\n",
    "# get best params as model init kwargs\n",
    "for mlp_model_name, params in best_params.items():\n",
    "    best_params[mlp_model_name] = {k.replace(f'{mlp_model_name}__', ''):v for k,v in params.items()}\n",
    "    \n",
    "# # add lightning MLP results\n",
    "# best_params[mlp_model_name] = dict(zip(hp_grids[mlp_model_name].keys(),\n",
    "#                                     *MLP_cv_results.groupby(list(hp_grids[mlp_model_name].keys())).mean().idxmax()))\n",
    "        \n",
    "best_params"
   ]
  },
  {
   "cell_type": "code",
   "execution_count": 29,
   "id": "6d661c6b",
   "metadata": {},
   "outputs": [],
   "source": [
    "# create df with peformance results per CV split for best params\n",
    "best_params_score_df = pd.DataFrame(columns=split_test_score_keys,\n",
    "                                    index=model_names)\n",
    "\n",
    "for mlp_model_name, score_key in product(best_params.keys(), split_test_score_keys):\n",
    "    best_params_idx = cv_results[mlp_model_name]['clf'].cv_results_['params'].index(cv_results[mlp_model_name]['clf'].best_params_)\n",
    "    best_params_score_df.loc[(mlp_model_name, score_key)] = cv_results[mlp_model_name]['clf'].cv_results_[score_key][best_params_idx]\n",
    "    \n",
    "# # add lightning MLP results\n",
    "# best_params_score_df.loc[(mlp_model_name, slice(None))] = MLP_cv_results.loc[(slice(None), *best_params[mlp_model_name].values())].values.squeeze()"
   ]
  },
  {
   "cell_type": "code",
   "execution_count": 30,
   "id": "30b5da5d",
   "metadata": {},
   "outputs": [
    {
     "data": {
      "text/html": [
       "<div>\n",
       "<style scoped>\n",
       "    .dataframe tbody tr th:only-of-type {\n",
       "        vertical-align: middle;\n",
       "    }\n",
       "\n",
       "    .dataframe tbody tr th {\n",
       "        vertical-align: top;\n",
       "    }\n",
       "\n",
       "    .dataframe thead th {\n",
       "        text-align: right;\n",
       "    }\n",
       "</style>\n",
       "<table border=\"1\" class=\"dataframe\">\n",
       "  <thead>\n",
       "    <tr style=\"text-align: right;\">\n",
       "      <th></th>\n",
       "      <th>split0_test_score</th>\n",
       "      <th>split1_test_score</th>\n",
       "      <th>split2_test_score</th>\n",
       "    </tr>\n",
       "  </thead>\n",
       "  <tbody>\n",
       "    <tr>\n",
       "      <th>LogisticRegression</th>\n",
       "      <td>0.664768</td>\n",
       "      <td>0.656064</td>\n",
       "      <td>0.661038</td>\n",
       "    </tr>\n",
       "    <tr>\n",
       "      <th>RandomForestClassifier</th>\n",
       "      <td>0.6727</td>\n",
       "      <td>0.671166</td>\n",
       "      <td>0.669838</td>\n",
       "    </tr>\n",
       "    <tr>\n",
       "      <th>MLPClassifier</th>\n",
       "      <td>0.671769</td>\n",
       "      <td>0.658818</td>\n",
       "      <td>0.659283</td>\n",
       "    </tr>\n",
       "  </tbody>\n",
       "</table>\n",
       "</div>"
      ],
      "text/plain": [
       "                       split0_test_score split1_test_score split2_test_score\n",
       "LogisticRegression              0.664768          0.656064          0.661038\n",
       "RandomForestClassifier            0.6727          0.671166          0.669838\n",
       "MLPClassifier                   0.671769          0.658818          0.659283"
      ]
     },
     "execution_count": 30,
     "metadata": {},
     "output_type": "execute_result"
    }
   ],
   "source": [
    "# check all scores greater than threshold\n",
    "score_threshold = .65\n",
    "best_params_score_df #> score_threshold"
   ]
  },
  {
   "cell_type": "code",
   "execution_count": 31,
   "id": "79a6808e",
   "metadata": {},
   "outputs": [
    {
     "name": "stdout",
     "output_type": "stream",
     "text": [
      "Training single instance of LogisticRegression\n",
      "Using 693 features.\n"
     ]
    },
    {
     "name": "stderr",
     "output_type": "stream",
     "text": [
      "/home/hentipapai/miniconda3/envs/cph200b_project3/lib/python3.11/site-packages/sklearn/linear_model/_sag.py:349: ConvergenceWarning: The max_iter was reached which means the coef_ did not converge\n",
      "  warnings.warn(\n"
     ]
    }
   ],
   "source": [
    "# train models on best params\n",
    "best_linear_results = train_models(models[0:1], best_params, grid_search=False)\n",
    "# best_linear_results, _ = train_models(models[0:1], best_params, grid_search=False)\n",
    "# del _; gc.collect()"
   ]
  },
  {
   "cell_type": "code",
   "execution_count": 32,
   "id": "84b1d643",
   "metadata": {},
   "outputs": [
    {
     "name": "stdout",
     "output_type": "stream",
     "text": [
      "Training single instance of RandomForestClassifier\n",
      "Using 987 features.\n"
     ]
    }
   ],
   "source": [
    "best_tree_results = train_models(models[1:2], best_params, grid_search=False)\n",
    "# best_tree_results, _ = train_models(models[1:2], best_params, grid_search=False)\n",
    "# del _; gc.collect()"
   ]
  },
  {
   "cell_type": "code",
   "execution_count": 33,
   "id": "5c55cae1",
   "metadata": {},
   "outputs": [
    {
     "name": "stdout",
     "output_type": "stream",
     "text": [
      "Training single instance of MLPClassifier\n",
      "Using 987 features.\n"
     ]
    }
   ],
   "source": [
    "best_MLP_results = train_models(models[2:3], best_params, grid_search=False)\n",
    "# best_MLP_results, _ = train_models(models[2:3], best_params, grid_search=False)\n",
    "# del _; gc.collect()"
   ]
  },
  {
   "cell_type": "code",
   "execution_count": 34,
   "id": "a30be0d2",
   "metadata": {},
   "outputs": [],
   "source": [
    "# pipeline_out = MLPClassifier_training_pipeline(\n",
    "#     raw_data=pd.concat([selected_features,\n",
    "#                         train_data[[outcome_col]]], axis=1),\n",
    "#     model_name=mlp_model_name,\n",
    "#     outcome_col=outcome_col,\n",
    "#     input_features=selected_features.columns.tolist(),\n",
    "#     dataset_name=dataset_name,\n",
    "#     wandb_kwargs=wandb_kwargs,\n",
    "#     max_epochs=max_epochs,\n",
    "#     patience=patience,\n",
    "#     fold=fold,\n",
    "#     n_splits=cv,\n",
    "#     **best_params[mlp_model_name]          \n",
    "# )\n",
    "\n",
    "# trainer, model, datamodule = [pipeline_out[x] for x in ['trainer', 'model', 'datamodule']]\n",
    "\n",
    "# print(\"Testing model\")\n",
    "# test_pred = trainer.test(model, datamodule)[0]"
   ]
  },
  {
   "cell_type": "code",
   "execution_count": 35,
   "id": "313b2b77",
   "metadata": {},
   "outputs": [],
   "source": [
    "# # unpack test prediction AUC\n",
    "# test_auc = test_pred['test_auc']\n",
    "# ci = (test_pred['test_ci_lower'], test_pred['test_ci_upper'])\n",
    "\n",
    "# # update dict with performance\n",
    "# best_MLP_results = {mlp_model_name: {\n",
    "#                         'auc':{\n",
    "#                             'auc': test_auc, \n",
    "#                             'ci':ci\n",
    "#                             }\n",
    "#                         }\n",
    "#                     }"
   ]
  },
  {
   "cell_type": "code",
   "execution_count": 36,
   "id": "2c2cd31f",
   "metadata": {},
   "outputs": [],
   "source": [
    "best_params_results = {**best_linear_results, **best_tree_results, **best_MLP_results}"
   ]
  },
  {
   "cell_type": "markdown",
   "id": "f0cf786c",
   "metadata": {},
   "source": [
    "### Get items for report"
   ]
  },
  {
   "cell_type": "code",
   "execution_count": 37,
   "id": "59a8d136",
   "metadata": {},
   "outputs": [
    {
     "name": "stdout",
     "output_type": "stream",
     "text": [
      "\\begin{table}\n",
      "\\caption{Predictor variables used for model training by data type.}\n",
      "\\label{tab:predictor_variables}\n",
      "\\begin{tabular}{lll}\n",
      "\\toprule\n",
      "numerical & ordinal & categorical \\\\\n",
      "\\midrule\n",
      "time\\_in\\_hospital & age & race \\\\\n",
      "num\\_lab\\_procedures & - & gender \\\\\n",
      "num\\_procedures & - & admission\\_type\\_id \\\\\n",
      "num\\_medications & - & discharge\\_disposition\\_id \\\\\n",
      "number\\_outpatient & - & admission\\_source\\_id \\\\\n",
      "number\\_emergency & - & max\\_glu\\_serum \\\\\n",
      "number\\_inpatient & - & A1Cresult \\\\\n",
      "number\\_diagnoses & - & metformin \\\\\n",
      "- & - & repaglinide \\\\\n",
      "- & - & nateglinide \\\\\n",
      "- & - & chlorpropamide \\\\\n",
      "- & - & glimepiride \\\\\n",
      "- & - & acetohexamide \\\\\n",
      "- & - & glipizide \\\\\n",
      "- & - & glyburide \\\\\n",
      "- & - & tolbutamide \\\\\n",
      "- & - & pioglitazone \\\\\n",
      "- & - & rosiglitazone \\\\\n",
      "- & - & acarbose \\\\\n",
      "- & - & miglitol \\\\\n",
      "- & - & troglitazone \\\\\n",
      "- & - & tolazamide \\\\\n",
      "- & - & examide \\\\\n",
      "- & - & citoglipton \\\\\n",
      "- & - & insulin \\\\\n",
      "- & - & glyburide-metformin \\\\\n",
      "- & - & glipizide-metformin \\\\\n",
      "- & - & glimepiride-pioglitazone \\\\\n",
      "- & - & metformin-rosiglitazone \\\\\n",
      "- & - & metformin-pioglitazone \\\\\n",
      "- & - & change \\\\\n",
      "- & - & diabetesMed \\\\\n",
      "\\bottomrule\n",
      "\\end{tabular}\n",
      "\\end{table}\n",
      "\n"
     ]
    }
   ],
   "source": [
    "# get predictor variables in latex\n",
    "predictor_df = pd.DataFrame.from_dict(\n",
    "    dict(zip(['numerical', 'ordinal', 'categorical'],\n",
    "             [numeric_predictor_cols, ordinal_predictor_cols, categorical_predictor_cols])),\n",
    "    orient='index').T\n",
    "\n",
    "predictor_df = predictor_df.replace('_', '\\_', regex=True)\n",
    "\n",
    "print(predictor_df.to_latex(index=False, \n",
    "                            label=f'tab:predictor_variables',\n",
    "                            caption=f'Predictor variables used for model training by data type.',\n",
    "                            sparsify=True,\n",
    "                            na_rep='-'))"
   ]
  },
  {
   "cell_type": "code",
   "execution_count": 50,
   "id": "123126a0",
   "metadata": {},
   "outputs": [
    {
     "name": "stdout",
     "output_type": "stream",
     "text": [
      "\\begin{table}\n",
      "\\caption{Hyperparameters searched over by model class}\n",
      "\\label{tab:hyperparam_grid}\n",
      "\\begin{tabular}{llll}\n",
      "\\toprule\n",
      " & MLPClassifier & LogisticRegression & RandomForestClassifier \\\\\n",
      "\\midrule\n",
      "hidden layer sizes & [(128,), (64, 64)] & - & - \\\\\n",
      "alpha & [0.0001, 0.001] & - & - \\\\\n",
      "learning rate init & [0.0001, 0.001] & - & - \\\\\n",
      "early stopping & [True] & - & - \\\\\n",
      "criterion & - & - & ['entropy'] \\\\\n",
      "max depth & - & - & [None, 5, 10] \\\\\n",
      "min samples split & - & - & [2, 10] \\\\\n",
      "min samples leaf & - & - & [1, 2, 4] \\\\\n",
      "penalty & - & ['l1', 'l2'] & - \\\\\n",
      "C & - & [0.1, 0.5, 0.99] & - \\\\\n",
      "solver & - & ['saga'] & - \\\\\n",
      "\\bottomrule\n",
      "\\end{tabular}\n",
      "\\end{table}\n",
      "\n"
     ]
    }
   ],
   "source": [
    "# get hyperparamters in latex\n",
    "hp_grid_df = pd.DataFrame.from_dict(hp_grids)\n",
    "hp_grid_df.drop(columns=['DecisionTreeClassifier'], inplace=True)\n",
    "hp_grid_df.index = hp_grid_df.index.str.replace('_', ' ')\n",
    "\n",
    "print(hp_grid_df.to_latex(index=True, \n",
    "                        label=f'tab:hyperparam_grid',\n",
    "                        caption=f'Hyperparameters searched over by model class',\n",
    "                        sparsify=True,\n",
    "                        na_rep='-'))"
   ]
  },
  {
   "cell_type": "code",
   "execution_count": 65,
   "id": "6969e1d8",
   "metadata": {},
   "outputs": [
    {
     "name": "stdout",
     "output_type": "stream",
     "text": [
      "\\begin{table}\n",
      "\\caption{Model AUC on the validation set for each across cross validation folds.                                         Results are from models trained with hyperparameters achieving the best mean                                            AUC across folds.}\n",
      "\\label{tab:cv_best_params}\n",
      "\\begin{tabular}{llll}\n",
      "\\toprule\n",
      "split & LogisticRegression & RandomForestClassifier & MLPClassifier \\\\\n",
      "split &  &  &  \\\\\n",
      "\\midrule\n",
      "0   & 0.665 & 0.673 & 0.672 \\\\\n",
      "1   & 0.656 & 0.671 & 0.659 \\\\\n",
      "2   & 0.661 & 0.670 & 0.659 \\\\\n",
      "\\bottomrule\n",
      "\\end{tabular}\n",
      "\\end{table}\n",
      "\n"
     ]
    }
   ],
   "source": [
    "# get CV fold scores in latex\n",
    "best_params_score_df.columns = best_params_score_df.columns.str.replace('test|_|score|split', '', regex=True)\n",
    "best_params_score_df = best_params_score_df.T\n",
    "best_params_score_df.index.name = 'split'\n",
    "print(best_params_score_df.T.to_latex(index=True, \n",
    "                                    label=f'tab:cv_best_params',\n",
    "                                    caption=f'Model AUC on the validation set for each across cross validation folds. \\\n",
    "                                        Results are from models trained with hyperparameters achieving the best mean\\\n",
    "                                            AUC across folds.',\n",
    "                                    sparsify=True,\n",
    "                                    float_format=\"%.3f\"))"
   ]
  },
  {
   "cell_type": "code",
   "execution_count": 39,
   "id": "217df3af",
   "metadata": {},
   "outputs": [
    {
     "data": {
      "image/png": "[encoded data removed]",
      "text/plain": [
       "<Figure size 1000x600 with 1 Axes>"
      ]
     },
     "metadata": {},
     "output_type": "display_data"
    }
   ],
   "source": [
    "from src.utils import plot_points_with_ci\n",
    "from operator import itemgetter\n",
    "\n",
    "# create df for results plotting\n",
    "plot_df = pd.DataFrame(index=model_names, columns=['auc', 'se'])\n",
    "plot_df.index.name = 'model'\n",
    "\n",
    "for mlp_model_name in model_names:\n",
    "    auc, ci = itemgetter('auc', 'ci')(best_params_results[mlp_model_name]['auc'])\n",
    "    se = abs(ci[0] - ci[1]) / (2 * 1.96) # calculate stanrdard error from 95% interval\n",
    "    plot_df.loc[mlp_model_name] = auc, se\n",
    "\n",
    "plot_df.reset_index(inplace=True)\n",
    "    \n",
    "plot_points_with_ci(plot_df, \n",
    "                    x_col='model',\n",
    "                    y_col='auc',\n",
    "                    se_col='se',\n",
    "                    title='<30 Day Readmission Prediction AUC',\n",
    "                    x_label='Model',\n",
    "                    y_label='AUC with 95% CIs',\n",
    "                    output_path='../figures/readmission_prediction_AUC.png')\n"
   ]
  },
  {
   "cell_type": "markdown",
   "id": "db939fa1",
   "metadata": {},
   "source": [
    "## 1.3 Distribution Shift"
   ]
  },
  {
   "cell_type": "code",
   "execution_count": 40,
   "id": "23c70668",
   "metadata": {},
   "outputs": [],
   "source": [
    "from sklearn.linear_model import LogisticRegression\n",
    "from sklearn.preprocessing import StandardScaler, OneHotEncoder, OrdinalEncoder\n",
    "from sklearn.pipeline import Pipeline, FeatureUnion, make_pipeline\n",
    "from src.utils import Columns"
   ]
  },
  {
   "cell_type": "code",
   "execution_count": 41,
   "id": "7de8f5b6",
   "metadata": {},
   "outputs": [
    {
     "name": "stderr",
     "output_type": "stream",
     "text": [
      "/home/hentipapai/miniconda3/envs/cph200b_project3/lib/python3.11/site-packages/sklearn/base.py:493: UserWarning: X does not have valid feature names, but OrdinalEncoder was fitted with feature names\n",
      "  warnings.warn(\n"
     ]
    }
   ],
   "source": [
    "# set up best-performing model\n",
    "mlp_model_name = LogisticRegression.__name__\n",
    "linear_model = LogisticRegression(random_state=40, **best_params[mlp_model_name])\n",
    "\n",
    "# fit encoders\n",
    "ohe = OneHotEncoder(sparse_output=False, drop='first')\n",
    "ohe.fit(diabetic_df[categorical_predictor_cols])\n",
    "ohe_cols = ohe.get_feature_names_out().tolist()\n",
    "\n",
    "oe = OrdinalEncoder()\n",
    "oe.fit(diabetic_df[ordinal_predictor_cols])\n",
    "\n",
    "# get training dfs\n",
    "train_df = pd.concat([diabetic_df[[*numeric_predictor_cols, outcome_col]],\n",
    "                      pd.DataFrame(oe.transform(diabetic_df[ordinal_predictor_cols]), columns=ordinal_predictor_cols, index=diabetic_df.index),\n",
    "                      pd.DataFrame(ohe.transform(diabetic_df[categorical_predictor_cols]), columns=ohe_cols, index=diabetic_df.index)],\n",
    "                     axis=1)\n",
    "transformed_predictor_cols = numeric_predictor_cols + ohe_cols + ordinal_predictor_cols\n",
    "\n",
    "# split by age\n",
    "encoding_up_to_50 = oe.transform([['[40-50)']]).squeeze()\n",
    "younger_50_idx = train_df['age'] <= encoding_up_to_50\n",
    "younger50_df = train_df[younger_50_idx]\n",
    "older50_df = train_df[~younger_50_idx]\n",
    "\n",
    "# make pipeline\n",
    "pipeline = Pipeline([\n",
    "(\"features\", FeatureUnion([\n",
    "    ('numeric_transform', make_pipeline(Columns(names=numeric_predictor_cols),\n",
    "                                        StandardScaler())),\n",
    "    ('no_transform', make_pipeline(Columns(names=ordinal_predictor_cols+ohe_cols),\n",
    "                                        )),\n",
    "    ])),\n",
    "(mlp_model_name, linear_model),\n",
    "])\n",
    "\n",
    "# set score function\n",
    "score_func = roc_auc_score"
   ]
  },
  {
   "cell_type": "code",
   "execution_count": 42,
   "id": "bcdffedc",
   "metadata": {},
   "outputs": [
    {
     "name": "stderr",
     "output_type": "stream",
     "text": [
      "/home/hentipapai/miniconda3/envs/cph200b_project3/lib/python3.11/site-packages/sklearn/linear_model/_sag.py:349: ConvergenceWarning: The max_iter was reached which means the coef_ did not converge\n",
      "  warnings.warn(\n"
     ]
    },
    {
     "name": "stdout",
     "output_type": "stream",
     "text": [
      "Younger than 50 score roc_auc_score: (0.72257596, (0.7096709275071194, 0.7354809975798557))\n",
      "Older than 50 roc_auc_score: (0.6438467203295262, (0.6380044474545873, 0.649688993204465))\n"
     ]
    }
   ],
   "source": [
    "# Train a model on only patients younger than 50.\n",
    "pipeline.fit(younger50_df[transformed_predictor_cols], younger50_df[outcome_col])\n",
    "\n",
    "# What is the performance of the best linear model trained and tested on patients younger than 50? \n",
    "younger50_score = score_func(y_true=younger50_df[outcome_col], \n",
    "                             y_pred=pipeline.predict_proba(younger50_df[transformed_predictor_cols])[:,1])\n",
    "print(f'Younger than 50 score {score_func.__name__}:', younger50_score)\n",
    "\n",
    "# Using patients older than 50 as a target distribution, what is the performance of the younger-than-50 model on the older than 50 population?\n",
    "older50_score = score_func(y_true=older50_df[outcome_col], \n",
    "                           y_pred=pipeline.predict_proba(older50_df[transformed_predictor_cols])[:,1])\n",
    "print(f'Older than 50 {score_func.__name__}:', older50_score)\n"
   ]
  },
  {
   "cell_type": "code",
   "execution_count": null,
   "id": "786cb9cb",
   "metadata": {},
   "outputs": [],
   "source": [
    "# compute differences/feature importance\n"
   ]
  },
  {
   "cell_type": "code",
   "execution_count": 79,
   "id": "b25c01c3",
   "metadata": {},
   "outputs": [
    {
     "name": "stdout",
     "output_type": "stream",
     "text": [
      "\\begin{table}\n",
      "\\caption{AUC of LogisticRegression trained on data from patients <50yo}\n",
      "\\label{tab:shift_performance}\n",
      "\\begin{tabular}{lrrr}\n",
      "\\toprule\n",
      " & auc & ci lower & ci upper \\\\\n",
      "Test set &  &  &  \\\\\n",
      "\\midrule\n",
      "Patients >= 50 & 0.644 & 0.638 & 0.650 \\\\\n",
      "Patients < 50 & 0.723 & 0.710 & 0.735 \\\\\n",
      "\\bottomrule\n",
      "\\end{tabular}\n",
      "\\end{table}\n",
      "\n"
     ]
    }
   ],
   "source": [
    "# get table in latex\n",
    "shift_df = pd.DataFrame([[older50_score[0], *older50_score[1]],\n",
    "                         [younger50_score[0], *younger50_score[1]]],\n",
    "                        index=['Patients >= 50', 'Patients < 50'], \n",
    "                        columns=['auc', 'ci lower', 'ci upper'])\n",
    "shift_df.index.name = 'Test set'\n",
    "\n",
    "print(shift_df.to_latex(index=True, \n",
    "                        label=f'tab:shift_performance',\n",
    "                        caption=f'AUC of {mlp_model_name} trained on data from patients <50yo',\n",
    "                        sparsify=True,\n",
    "                        float_format='%.3f'))"
   ]
  },
  {
   "cell_type": "markdown",
   "id": "bac91ffd",
   "metadata": {},
   "source": [
    "# 2 FDA Request for Comments"
   ]
  },
  {
   "cell_type": "markdown",
   "id": "417cd675",
   "metadata": {},
   "source": [
    "The two notable parts in the draft guidance are (1) the risk-based credibility assessment framework and (2) the recommendation to engage with different FDA groups to appropriately set expectationson on how credibility is assessed and maintained during the regulatory life cycle of models proposed for deployment.\n",
    "\n"
   ]
  },
  {
   "cell_type": "markdown",
   "id": "c66a9256",
   "metadata": {},
   "source": [
    "# 3 MIMIC-IV Warm-up"
   ]
  },
  {
   "cell_type": "code",
   "execution_count": 44,
   "id": "d9633ca2",
   "metadata": {},
   "outputs": [],
   "source": [
    "import pandas as pd\n",
    "from src.directory import data_dir"
   ]
  },
  {
   "cell_type": "markdown",
   "id": "490ff0cb",
   "metadata": {},
   "source": [
    "Anchor year groups are deidentified pieces of information that allow researchers to infer the approximate year a patient received care. They are method to preserve temporal privacy of patient encounters and necessary to provide some understanding of the time period during which data was generated, allowing researchers to estimate and account for potential dataset shift.\n",
    "\n",
    "The documentation for the MIMIC-IV dataset states: \"All dates in MIMIC-IV have been deidentified by shifting the dates into a future time period between 2100 - 2200. The anchor_year column is a deidentified year occurring sometime between 2100 - 2200, and the anchor_year_group column is one of the following values: \"2008 - 2010\", \"2011 - 2013\", \"2014 - 2016\", \"2017 - 2019\", and \"2020 - 2022\".\""
   ]
  },
  {
   "cell_type": "code",
   "execution_count": 45,
   "id": "033bab9b",
   "metadata": {},
   "outputs": [],
   "source": [
    "# SQL Query\n",
    "# SELECT \n",
    "#   anchor_year_group, COUNT(DISTINCT subject_id) \n",
    "# AS \n",
    "#   num_unique_patients\n",
    "# FROM\n",
    "#   `physionet-data.mimiciv_3_1_hosp.patients`\n",
    "# GROUP BY \n",
    "#   anchor_year_group"
   ]
  },
  {
   "cell_type": "code",
   "execution_count": null,
   "id": "66c7f334",
   "metadata": {},
   "outputs": [
    {
     "name": "stdout",
     "output_type": "stream",
     "text": [
      "\\begin{table}\n",
      "\\caption{Number of unique patient by anchor year in the MIMIC-IV v3.1 dataset.}\n",
      "\\label{tab:patients_by_anchor_year}\n",
      "\\begin{tabular}{lr}\n",
      "\\toprule\n",
      "Anchor year group & Num unique patients \\\\\n",
      "\\midrule\n",
      "2017 - 2019 & 65941 \\\\\n",
      "2008 - 2010 & 101607 \\\\\n",
      "2011 - 2013 & 76266 \\\\\n",
      "2014 - 2016 & 71640 \\\\\n",
      "2020 - 2022 & 49173 \\\\\n",
      "\\bottomrule\n",
      "\\end{tabular}\n",
      "\\end{table}\n",
      "\n"
     ]
    }
   ],
   "source": [
    "anchor_df = pd.read_csv(os.path.join(data_dir, 'MIMIC_IV_patients_by_anchor_year.csv'))\n",
    "anchor_df.columns = anchor_df.columns.str.replace('_', ' ').str.capitalize()\n",
    "\n",
    "print(anchor_df.to_latex(index=False, \n",
    "                        label=f'tab:patients_by_anchor_year',\n",
    "                        caption=f'Number of unique patient by anchor year in the MIMIC-IV v3.1 dataset.',\n",
    "                        sparsify=True))"
   ]
  }
 ],
 "metadata": {
  "kernelspec": {
   "display_name": "cph200b_project3",
   "language": "python",
   "name": "python3"
  },
  "language_info": {
   "codemirror_mode": {
    "name": "ipython",
    "version": 3
   },
   "file_extension": ".py",
   "mimetype": "text/x-python",
   "name": "python",
   "nbconvert_exporter": "python",
   "pygments_lexer": "ipython3",
   "version": "3.11.11"
  }
 },
 "nbformat": 4,
 "nbformat_minor": 5
}
